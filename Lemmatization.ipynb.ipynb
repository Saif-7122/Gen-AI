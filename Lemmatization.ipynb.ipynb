{
  "nbformat": 4,
  "nbformat_minor": 0,
  "metadata": {
    "colab": {
      "provenance": []
    },
    "kernelspec": {
      "name": "python3",
      "display_name": "Python 3"
    },
    "language_info": {
      "name": "python"
    }
  },
  "cells": [
    {
      "cell_type": "markdown",
      "source": [
        "#Wordnet Lemmatizer:\n",
        "### Lemmatization is like stemming. The output we will get after lemmatization is called 'lemma' which is a root word rather than root stem, the output we will get after lemmatization is called 'lemma', which is a root word rather than the root stem, the output of stemming. After lemmatization, we will be getting a valid word that means the same thing."
      ],
      "metadata": {
        "id": "kI9iPVtTOInq"
      }
    },
    {
      "cell_type": "code",
      "source": [
        "from nltk.stem import WordNetLemmatizer\n",
        "lemmatizer = WordNetLemmatizer()"
      ],
      "metadata": {
        "id": "LDGBVTY-Orwl"
      },
      "execution_count": 1,
      "outputs": []
    },
    {
      "cell_type": "code",
      "source": [
        "import nltk\n",
        "nltk.download('wordnet')"
      ],
      "metadata": {
        "colab": {
          "base_uri": "https://localhost:8080/"
        },
        "id": "0_aeDVZAO62f",
        "outputId": "296494a1-d831-434e-fe26-d0d3a0e6565a"
      },
      "execution_count": 3,
      "outputs": [
        {
          "output_type": "stream",
          "name": "stderr",
          "text": [
            "[nltk_data] Downloading package wordnet to /root/nltk_data...\n"
          ]
        },
        {
          "output_type": "execute_result",
          "data": {
            "text/plain": [
              "True"
            ]
          },
          "metadata": {},
          "execution_count": 3
        }
      ]
    },
    {
      "cell_type": "code",
      "source": [
        "lemmatizer.lemmatize(\"going\", pos='v')"
      ],
      "metadata": {
        "colab": {
          "base_uri": "https://localhost:8080/",
          "height": 36
        },
        "id": "PmEd38SyO_yR",
        "outputId": "2fbea121-7e50-4ae6-d4dd-2ccbbf1eaebe"
      },
      "execution_count": 5,
      "outputs": [
        {
          "output_type": "execute_result",
          "data": {
            "text/plain": [
              "'go'"
            ],
            "application/vnd.google.colaboratory.intrinsic+json": {
              "type": "string"
            }
          },
          "metadata": {},
          "execution_count": 5
        }
      ]
    },
    {
      "cell_type": "code",
      "source": [
        "words=['go','went','gone','going','goes']"
      ],
      "metadata": {
        "id": "ZUdbXsVzP7Tt"
      },
      "execution_count": 9,
      "outputs": []
    },
    {
      "cell_type": "code",
      "source": [
        "for word in words:\n",
        "  print(lemmatizer.lemmatize(word, pos='v'))"
      ],
      "metadata": {
        "colab": {
          "base_uri": "https://localhost:8080/"
        },
        "id": "0dPgo3d-PSK4",
        "outputId": "717c37b0-929a-49b9-8ac0-f3904fc5de99"
      },
      "execution_count": 10,
      "outputs": [
        {
          "output_type": "stream",
          "name": "stdout",
          "text": [
            "go\n",
            "go\n",
            "go\n",
            "go\n",
            "go\n"
          ]
        }
      ]
    },
    {
      "cell_type": "code",
      "source": [
        "lemmatizer.lemmatize(\"fairly\", pos ='v'), lemmatizer.lemmatize(\"ugly\", pos ='a')"
      ],
      "metadata": {
        "colab": {
          "base_uri": "https://localhost:8080/"
        },
        "id": "C1TBSXa2P50t",
        "outputId": "85d6a077-01c6-4057-df68-dfe0ac87f8aa"
      },
      "execution_count": 11,
      "outputs": [
        {
          "output_type": "execute_result",
          "data": {
            "text/plain": [
              "('fairly', 'ugly')"
            ]
          },
          "metadata": {},
          "execution_count": 11
        }
      ]
    },
    {
      "cell_type": "markdown",
      "source": [
        "## MOre time consuming :(\n",
        "## compared to stemming\n",
        "\n",
        "## one simple usecase: Q&A, Chatbots and text summarization"
      ],
      "metadata": {
        "id": "6NMlRqoOQbOb"
      }
    },
    {
      "cell_type": "code",
      "source": [],
      "metadata": {
        "id": "a-6kNgQgQud5"
      },
      "execution_count": null,
      "outputs": []
    }
  ]
}