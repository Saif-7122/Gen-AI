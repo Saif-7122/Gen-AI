{
 "cells": [
  {
   "cell_type": "markdown",
   "id": "6a21ae78",
   "metadata": {},
   "source": [
    "Embedding Layer"
   ]
  },
  {
   "cell_type": "markdown",
   "id": "0a9e1597",
   "metadata": {},
   "source": []
  }
 ],
 "metadata": {
  "language_info": {
   "name": "python"
  }
 },
 "nbformat": 4,
 "nbformat_minor": 5
}
