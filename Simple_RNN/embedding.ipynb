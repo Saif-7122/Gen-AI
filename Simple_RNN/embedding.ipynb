{
 "cells": [
  {
   "cell_type": "code",
   "execution_count": 1,
   "metadata": {},
   "outputs": [],
   "source": [
    "from tensorflow.keras.preprocessing.text import one_hot"
   ]
  },
  {
   "cell_type": "code",
   "execution_count": 2,
   "metadata": {},
   "outputs": [],
   "source": [
    "### sentences\n",
    "sent=[  'the glass of milk',\n",
    "     'the glass of juice',\n",
    "     'the cup of tea',\n",
    "    'I am a good boy',\n",
    "     'I am a good developer',\n",
    "     'understand the meaning of words',\n",
    "     'your videos are good',]"
   ]
  },
  {
   "cell_type": "code",
   "execution_count": 3,
   "metadata": {},
   "outputs": [
    {
     "data": {
      "text/plain": [
       "['the glass of milk',\n",
       " 'the glass of juice',\n",
       " 'the cup of tea',\n",
       " 'I am a good boy',\n",
       " 'I am a good developer',\n",
       " 'understand the meaning of words',\n",
       " 'your videos are good']"
      ]
     },
     "execution_count": 3,
     "metadata": {},
     "output_type": "execute_result"
    }
   ],
   "source": [
    "sent"
   ]
  },
  {
   "cell_type": "code",
   "execution_count": 4,
   "metadata": {},
   "outputs": [],
   "source": [
    "## Define the vocabulary size\n",
    "voc_size=10000"
   ]
  },
  {
   "cell_type": "code",
   "execution_count": 5,
   "metadata": {},
   "outputs": [
    {
     "data": {
      "text/plain": [
       "['the glass of milk',\n",
       " 'the glass of juice',\n",
       " 'the cup of tea',\n",
       " 'I am a good boy',\n",
       " 'I am a good developer',\n",
       " 'understand the meaning of words',\n",
       " 'your videos are good']"
      ]
     },
     "execution_count": 5,
     "metadata": {},
     "output_type": "execute_result"
    }
   ],
   "source": [
    "sent"
   ]
  },
  {
   "cell_type": "code",
   "execution_count": 6,
   "metadata": {},
   "outputs": [
    {
     "data": {
      "text/plain": [
       "[[6511, 6879, 9903, 7463],\n",
       " [6511, 6879, 9903, 9175],\n",
       " [6511, 6955, 9903, 730],\n",
       " [9847, 734, 3870, 519, 3479],\n",
       " [9847, 734, 3870, 519, 2495],\n",
       " [6631, 6511, 9264, 9903, 4175],\n",
       " [3802, 8948, 3468, 519]]"
      ]
     },
     "execution_count": 6,
     "metadata": {},
     "output_type": "execute_result"
    }
   ],
   "source": [
    "### One Hot Representation\n",
    "one_hot_repr=[one_hot(words,voc_size)for words in sent]\n",
    "one_hot_repr"
   ]
  },
  {
   "cell_type": "code",
   "execution_count": 7,
   "metadata": {},
   "outputs": [],
   "source": [
    "## word Embedding Representation\n",
    "\n",
    "from tensorflow.keras.layers import Embedding\n",
    "#from tensorflow.keras.processing.sequence import pad_sequences\n",
    "from tensorflow.keras.utils import pad_sequences\n",
    "from tensorflow.keras.models import Sequential"
   ]
  },
  {
   "cell_type": "code",
   "execution_count": 8,
   "metadata": {},
   "outputs": [],
   "source": [
    "import numpy as np"
   ]
  },
  {
   "cell_type": "code",
   "execution_count": 9,
   "metadata": {},
   "outputs": [
    {
     "name": "stdout",
     "output_type": "stream",
     "text": [
      "[[   0    0    0    0 6511 6879 9903 7463]\n",
      " [   0    0    0    0 6511 6879 9903 9175]\n",
      " [   0    0    0    0 6511 6955 9903  730]\n",
      " [   0    0    0 9847  734 3870  519 3479]\n",
      " [   0    0    0 9847  734 3870  519 2495]\n",
      " [   0    0    0 6631 6511 9264 9903 4175]\n",
      " [   0    0    0    0 3802 8948 3468  519]]\n"
     ]
    }
   ],
   "source": [
    "sent_length=8\n",
    "embedded_docs=pad_sequences(one_hot_repr,padding='pre',maxlen=sent_length)\n",
    "print(embedded_docs)"
   ]
  },
  {
   "cell_type": "code",
   "execution_count": 10,
   "metadata": {},
   "outputs": [],
   "source": [
    "## feature representation\n",
    "dim=10"
   ]
  },
  {
   "cell_type": "code",
   "execution_count": 11,
   "metadata": {},
   "outputs": [
    {
     "name": "stderr",
     "output_type": "stream",
     "text": [
      "c:\\Users\\moham\\Documents\\Simple_RNN\\venv\\Lib\\site-packages\\keras\\src\\layers\\core\\embedding.py:90: UserWarning: Argument `input_length` is deprecated. Just remove it.\n",
      "  warnings.warn(\n"
     ]
    }
   ],
   "source": [
    "model=Sequential()\n",
    "model.add(Embedding(voc_size,dim,input_length=sent_length))\n",
    "model.compile('adam','mse')"
   ]
  },
  {
   "cell_type": "code",
   "execution_count": 12,
   "metadata": {},
   "outputs": [
    {
     "data": {
      "text/html": [
       "<pre style=\"white-space:pre;overflow-x:auto;line-height:normal;font-family:Menlo,'DejaVu Sans Mono',consolas,'Courier New',monospace\"><span style=\"font-weight: bold\">Model: \"sequential\"</span>\n",
       "</pre>\n"
      ],
      "text/plain": [
       "\u001b[1mModel: \"sequential\"\u001b[0m\n"
      ]
     },
     "metadata": {},
     "output_type": "display_data"
    },
    {
     "data": {
      "text/html": [
       "<pre style=\"white-space:pre;overflow-x:auto;line-height:normal;font-family:Menlo,'DejaVu Sans Mono',consolas,'Courier New',monospace\">┏━━━━━━━━━━━━━━━━━━━━━━━━━━━━━━━━━┳━━━━━━━━━━━━━━━━━━━━━━━━┳━━━━━━━━━━━━━━━┓\n",
       "┃<span style=\"font-weight: bold\"> Layer (type)                    </span>┃<span style=\"font-weight: bold\"> Output Shape           </span>┃<span style=\"font-weight: bold\">       Param # </span>┃\n",
       "┡━━━━━━━━━━━━━━━━━━━━━━━━━━━━━━━━━╇━━━━━━━━━━━━━━━━━━━━━━━━╇━━━━━━━━━━━━━━━┩\n",
       "│ embedding (<span style=\"color: #0087ff; text-decoration-color: #0087ff\">Embedding</span>)           │ ?                      │   <span style=\"color: #00af00; text-decoration-color: #00af00\">0</span> (unbuilt) │\n",
       "└─────────────────────────────────┴────────────────────────┴───────────────┘\n",
       "</pre>\n"
      ],
      "text/plain": [
       "┏━━━━━━━━━━━━━━━━━━━━━━━━━━━━━━━━━┳━━━━━━━━━━━━━━━━━━━━━━━━┳━━━━━━━━━━━━━━━┓\n",
       "┃\u001b[1m \u001b[0m\u001b[1mLayer (type)                   \u001b[0m\u001b[1m \u001b[0m┃\u001b[1m \u001b[0m\u001b[1mOutput Shape          \u001b[0m\u001b[1m \u001b[0m┃\u001b[1m \u001b[0m\u001b[1m      Param #\u001b[0m\u001b[1m \u001b[0m┃\n",
       "┡━━━━━━━━━━━━━━━━━━━━━━━━━━━━━━━━━╇━━━━━━━━━━━━━━━━━━━━━━━━╇━━━━━━━━━━━━━━━┩\n",
       "│ embedding (\u001b[38;5;33mEmbedding\u001b[0m)           │ ?                      │   \u001b[38;5;34m0\u001b[0m (unbuilt) │\n",
       "└─────────────────────────────────┴────────────────────────┴───────────────┘\n"
      ]
     },
     "metadata": {},
     "output_type": "display_data"
    },
    {
     "data": {
      "text/html": [
       "<pre style=\"white-space:pre;overflow-x:auto;line-height:normal;font-family:Menlo,'DejaVu Sans Mono',consolas,'Courier New',monospace\"><span style=\"font-weight: bold\"> Total params: </span><span style=\"color: #00af00; text-decoration-color: #00af00\">0</span> (0.00 B)\n",
       "</pre>\n"
      ],
      "text/plain": [
       "\u001b[1m Total params: \u001b[0m\u001b[38;5;34m0\u001b[0m (0.00 B)\n"
      ]
     },
     "metadata": {},
     "output_type": "display_data"
    },
    {
     "data": {
      "text/html": [
       "<pre style=\"white-space:pre;overflow-x:auto;line-height:normal;font-family:Menlo,'DejaVu Sans Mono',consolas,'Courier New',monospace\"><span style=\"font-weight: bold\"> Trainable params: </span><span style=\"color: #00af00; text-decoration-color: #00af00\">0</span> (0.00 B)\n",
       "</pre>\n"
      ],
      "text/plain": [
       "\u001b[1m Trainable params: \u001b[0m\u001b[38;5;34m0\u001b[0m (0.00 B)\n"
      ]
     },
     "metadata": {},
     "output_type": "display_data"
    },
    {
     "data": {
      "text/html": [
       "<pre style=\"white-space:pre;overflow-x:auto;line-height:normal;font-family:Menlo,'DejaVu Sans Mono',consolas,'Courier New',monospace\"><span style=\"font-weight: bold\"> Non-trainable params: </span><span style=\"color: #00af00; text-decoration-color: #00af00\">0</span> (0.00 B)\n",
       "</pre>\n"
      ],
      "text/plain": [
       "\u001b[1m Non-trainable params: \u001b[0m\u001b[38;5;34m0\u001b[0m (0.00 B)\n"
      ]
     },
     "metadata": {},
     "output_type": "display_data"
    }
   ],
   "source": [
    "model.summary()"
   ]
  },
  {
   "cell_type": "code",
   "execution_count": 13,
   "metadata": {},
   "outputs": [
    {
     "name": "stdout",
     "output_type": "stream",
     "text": [
      "\u001b[1m1/1\u001b[0m \u001b[32m━━━━━━━━━━━━━━━━━━━━\u001b[0m\u001b[37m\u001b[0m \u001b[1m0s\u001b[0m 118ms/step\n"
     ]
    },
    {
     "data": {
      "text/plain": [
       "array([[[ 2.83964165e-02, -2.14381944e-02, -2.47539766e-02,\n",
       "          4.80248369e-02,  9.54394415e-03, -1.56614184e-02,\n",
       "          3.73695381e-02, -4.83937524e-02,  4.72700112e-02,\n",
       "          3.89969088e-02],\n",
       "        [ 2.83964165e-02, -2.14381944e-02, -2.47539766e-02,\n",
       "          4.80248369e-02,  9.54394415e-03, -1.56614184e-02,\n",
       "          3.73695381e-02, -4.83937524e-02,  4.72700112e-02,\n",
       "          3.89969088e-02],\n",
       "        [ 2.83964165e-02, -2.14381944e-02, -2.47539766e-02,\n",
       "          4.80248369e-02,  9.54394415e-03, -1.56614184e-02,\n",
       "          3.73695381e-02, -4.83937524e-02,  4.72700112e-02,\n",
       "          3.89969088e-02],\n",
       "        [ 2.83964165e-02, -2.14381944e-02, -2.47539766e-02,\n",
       "          4.80248369e-02,  9.54394415e-03, -1.56614184e-02,\n",
       "          3.73695381e-02, -4.83937524e-02,  4.72700112e-02,\n",
       "          3.89969088e-02],\n",
       "        [-1.78309307e-02, -4.52556871e-02, -4.15460840e-02,\n",
       "          9.65474918e-03,  3.94544713e-02, -1.66599266e-02,\n",
       "          1.74858309e-02, -1.25818327e-03, -4.81563807e-02,\n",
       "          4.13529389e-02],\n",
       "        [-7.69399479e-03,  6.21602684e-03,  3.64063121e-02,\n",
       "          1.54186413e-03,  3.51818688e-02, -1.92099698e-02,\n",
       "          2.58822180e-02,  2.93052085e-02,  4.75856550e-02,\n",
       "          2.02366449e-02],\n",
       "        [ 4.77240570e-02,  1.74798034e-02, -3.22567970e-02,\n",
       "          3.42260636e-02,  3.10452916e-02,  3.49273533e-03,\n",
       "         -4.50175069e-02, -5.45353815e-03, -2.21540928e-02,\n",
       "          8.13554600e-03],\n",
       "        [-1.42439492e-02,  1.42395981e-02, -1.48376003e-02,\n",
       "          1.87460892e-02,  4.19757478e-02,  4.07442711e-02,\n",
       "          6.87427446e-03,  3.94873656e-02, -2.25564595e-02,\n",
       "         -4.75333109e-02]],\n",
       "\n",
       "       [[ 2.83964165e-02, -2.14381944e-02, -2.47539766e-02,\n",
       "          4.80248369e-02,  9.54394415e-03, -1.56614184e-02,\n",
       "          3.73695381e-02, -4.83937524e-02,  4.72700112e-02,\n",
       "          3.89969088e-02],\n",
       "        [ 2.83964165e-02, -2.14381944e-02, -2.47539766e-02,\n",
       "          4.80248369e-02,  9.54394415e-03, -1.56614184e-02,\n",
       "          3.73695381e-02, -4.83937524e-02,  4.72700112e-02,\n",
       "          3.89969088e-02],\n",
       "        [ 2.83964165e-02, -2.14381944e-02, -2.47539766e-02,\n",
       "          4.80248369e-02,  9.54394415e-03, -1.56614184e-02,\n",
       "          3.73695381e-02, -4.83937524e-02,  4.72700112e-02,\n",
       "          3.89969088e-02],\n",
       "        [ 2.83964165e-02, -2.14381944e-02, -2.47539766e-02,\n",
       "          4.80248369e-02,  9.54394415e-03, -1.56614184e-02,\n",
       "          3.73695381e-02, -4.83937524e-02,  4.72700112e-02,\n",
       "          3.89969088e-02],\n",
       "        [-1.78309307e-02, -4.52556871e-02, -4.15460840e-02,\n",
       "          9.65474918e-03,  3.94544713e-02, -1.66599266e-02,\n",
       "          1.74858309e-02, -1.25818327e-03, -4.81563807e-02,\n",
       "          4.13529389e-02],\n",
       "        [-7.69399479e-03,  6.21602684e-03,  3.64063121e-02,\n",
       "          1.54186413e-03,  3.51818688e-02, -1.92099698e-02,\n",
       "          2.58822180e-02,  2.93052085e-02,  4.75856550e-02,\n",
       "          2.02366449e-02],\n",
       "        [ 4.77240570e-02,  1.74798034e-02, -3.22567970e-02,\n",
       "          3.42260636e-02,  3.10452916e-02,  3.49273533e-03,\n",
       "         -4.50175069e-02, -5.45353815e-03, -2.21540928e-02,\n",
       "          8.13554600e-03],\n",
       "        [ 2.20002569e-02, -1.66403167e-02,  2.76328959e-02,\n",
       "         -3.34192663e-02, -4.44318540e-02, -1.84292570e-02,\n",
       "         -4.66040857e-02, -4.86372374e-02,  3.95680182e-02,\n",
       "         -1.19639263e-02]],\n",
       "\n",
       "       [[ 2.83964165e-02, -2.14381944e-02, -2.47539766e-02,\n",
       "          4.80248369e-02,  9.54394415e-03, -1.56614184e-02,\n",
       "          3.73695381e-02, -4.83937524e-02,  4.72700112e-02,\n",
       "          3.89969088e-02],\n",
       "        [ 2.83964165e-02, -2.14381944e-02, -2.47539766e-02,\n",
       "          4.80248369e-02,  9.54394415e-03, -1.56614184e-02,\n",
       "          3.73695381e-02, -4.83937524e-02,  4.72700112e-02,\n",
       "          3.89969088e-02],\n",
       "        [ 2.83964165e-02, -2.14381944e-02, -2.47539766e-02,\n",
       "          4.80248369e-02,  9.54394415e-03, -1.56614184e-02,\n",
       "          3.73695381e-02, -4.83937524e-02,  4.72700112e-02,\n",
       "          3.89969088e-02],\n",
       "        [ 2.83964165e-02, -2.14381944e-02, -2.47539766e-02,\n",
       "          4.80248369e-02,  9.54394415e-03, -1.56614184e-02,\n",
       "          3.73695381e-02, -4.83937524e-02,  4.72700112e-02,\n",
       "          3.89969088e-02],\n",
       "        [-1.78309307e-02, -4.52556871e-02, -4.15460840e-02,\n",
       "          9.65474918e-03,  3.94544713e-02, -1.66599266e-02,\n",
       "          1.74858309e-02, -1.25818327e-03, -4.81563807e-02,\n",
       "          4.13529389e-02],\n",
       "        [-1.94713827e-02, -1.57921910e-02,  1.62689574e-02,\n",
       "          1.42503865e-02, -4.18414697e-02, -1.87847018e-02,\n",
       "          2.27336325e-02, -3.06973346e-02,  3.36170532e-02,\n",
       "         -3.88591290e-02],\n",
       "        [ 4.77240570e-02,  1.74798034e-02, -3.22567970e-02,\n",
       "          3.42260636e-02,  3.10452916e-02,  3.49273533e-03,\n",
       "         -4.50175069e-02, -5.45353815e-03, -2.21540928e-02,\n",
       "          8.13554600e-03],\n",
       "        [ 2.73770429e-02, -3.11564691e-02, -2.49222759e-02,\n",
       "          4.67326678e-02, -1.06112473e-02, -2.83491015e-02,\n",
       "         -2.35324148e-02,  1.30246542e-02, -4.51691449e-05,\n",
       "          3.50109674e-02]],\n",
       "\n",
       "       [[ 2.83964165e-02, -2.14381944e-02, -2.47539766e-02,\n",
       "          4.80248369e-02,  9.54394415e-03, -1.56614184e-02,\n",
       "          3.73695381e-02, -4.83937524e-02,  4.72700112e-02,\n",
       "          3.89969088e-02],\n",
       "        [ 2.83964165e-02, -2.14381944e-02, -2.47539766e-02,\n",
       "          4.80248369e-02,  9.54394415e-03, -1.56614184e-02,\n",
       "          3.73695381e-02, -4.83937524e-02,  4.72700112e-02,\n",
       "          3.89969088e-02],\n",
       "        [ 2.83964165e-02, -2.14381944e-02, -2.47539766e-02,\n",
       "          4.80248369e-02,  9.54394415e-03, -1.56614184e-02,\n",
       "          3.73695381e-02, -4.83937524e-02,  4.72700112e-02,\n",
       "          3.89969088e-02],\n",
       "        [ 1.09201781e-02, -2.91685462e-02,  8.94558430e-03,\n",
       "         -2.14357302e-03,  2.99552120e-02, -9.04151052e-03,\n",
       "         -2.60514971e-02, -7.88129866e-04,  1.78395770e-02,\n",
       "          2.22009420e-03],\n",
       "        [ 2.83751227e-02, -3.04456353e-02, -1.37635097e-02,\n",
       "         -1.58409253e-02,  3.29185650e-03,  3.92460935e-02,\n",
       "         -3.00663002e-02, -1.83485635e-02,  3.27462219e-02,\n",
       "         -2.66901013e-02],\n",
       "        [-3.30494530e-02,  8.90567154e-03, -3.88668068e-02,\n",
       "          3.43440808e-02, -6.35810941e-03, -4.52224016e-02,\n",
       "         -1.83392391e-02,  3.16961892e-02,  1.22670755e-02,\n",
       "         -4.10265811e-02],\n",
       "        [-1.10506639e-02,  3.32957022e-02,  6.42082840e-03,\n",
       "         -4.65991348e-03, -2.65652779e-02, -3.65604274e-02,\n",
       "         -4.49048765e-02,  1.71564519e-04, -3.82828936e-02,\n",
       "         -3.11576203e-03],\n",
       "        [ 9.69680399e-03, -1.10795386e-02, -1.30959526e-02,\n",
       "          7.46225193e-03, -1.63964257e-02, -4.44789529e-02,\n",
       "          4.65631001e-02, -2.69273277e-02, -3.76551524e-02,\n",
       "          1.37307756e-02]],\n",
       "\n",
       "       [[ 2.83964165e-02, -2.14381944e-02, -2.47539766e-02,\n",
       "          4.80248369e-02,  9.54394415e-03, -1.56614184e-02,\n",
       "          3.73695381e-02, -4.83937524e-02,  4.72700112e-02,\n",
       "          3.89969088e-02],\n",
       "        [ 2.83964165e-02, -2.14381944e-02, -2.47539766e-02,\n",
       "          4.80248369e-02,  9.54394415e-03, -1.56614184e-02,\n",
       "          3.73695381e-02, -4.83937524e-02,  4.72700112e-02,\n",
       "          3.89969088e-02],\n",
       "        [ 2.83964165e-02, -2.14381944e-02, -2.47539766e-02,\n",
       "          4.80248369e-02,  9.54394415e-03, -1.56614184e-02,\n",
       "          3.73695381e-02, -4.83937524e-02,  4.72700112e-02,\n",
       "          3.89969088e-02],\n",
       "        [ 1.09201781e-02, -2.91685462e-02,  8.94558430e-03,\n",
       "         -2.14357302e-03,  2.99552120e-02, -9.04151052e-03,\n",
       "         -2.60514971e-02, -7.88129866e-04,  1.78395770e-02,\n",
       "          2.22009420e-03],\n",
       "        [ 2.83751227e-02, -3.04456353e-02, -1.37635097e-02,\n",
       "         -1.58409253e-02,  3.29185650e-03,  3.92460935e-02,\n",
       "         -3.00663002e-02, -1.83485635e-02,  3.27462219e-02,\n",
       "         -2.66901013e-02],\n",
       "        [-3.30494530e-02,  8.90567154e-03, -3.88668068e-02,\n",
       "          3.43440808e-02, -6.35810941e-03, -4.52224016e-02,\n",
       "         -1.83392391e-02,  3.16961892e-02,  1.22670755e-02,\n",
       "         -4.10265811e-02],\n",
       "        [-1.10506639e-02,  3.32957022e-02,  6.42082840e-03,\n",
       "         -4.65991348e-03, -2.65652779e-02, -3.65604274e-02,\n",
       "         -4.49048765e-02,  1.71564519e-04, -3.82828936e-02,\n",
       "         -3.11576203e-03],\n",
       "        [-2.74179112e-02, -4.22684215e-02, -3.48553546e-02,\n",
       "         -4.80228662e-02, -2.34877598e-02,  1.43000521e-02,\n",
       "         -2.89678574e-04, -1.88532714e-02, -1.88415535e-02,\n",
       "         -7.15322420e-03]],\n",
       "\n",
       "       [[ 2.83964165e-02, -2.14381944e-02, -2.47539766e-02,\n",
       "          4.80248369e-02,  9.54394415e-03, -1.56614184e-02,\n",
       "          3.73695381e-02, -4.83937524e-02,  4.72700112e-02,\n",
       "          3.89969088e-02],\n",
       "        [ 2.83964165e-02, -2.14381944e-02, -2.47539766e-02,\n",
       "          4.80248369e-02,  9.54394415e-03, -1.56614184e-02,\n",
       "          3.73695381e-02, -4.83937524e-02,  4.72700112e-02,\n",
       "          3.89969088e-02],\n",
       "        [ 2.83964165e-02, -2.14381944e-02, -2.47539766e-02,\n",
       "          4.80248369e-02,  9.54394415e-03, -1.56614184e-02,\n",
       "          3.73695381e-02, -4.83937524e-02,  4.72700112e-02,\n",
       "          3.89969088e-02],\n",
       "        [ 1.33243091e-02,  3.28774340e-02, -1.34140253e-02,\n",
       "          3.87789123e-02,  5.72664663e-03,  3.22650336e-02,\n",
       "         -5.38611412e-03,  4.82925810e-02,  4.56254743e-02,\n",
       "         -3.61741297e-02],\n",
       "        [-1.78309307e-02, -4.52556871e-02, -4.15460840e-02,\n",
       "          9.65474918e-03,  3.94544713e-02, -1.66599266e-02,\n",
       "          1.74858309e-02, -1.25818327e-03, -4.81563807e-02,\n",
       "          4.13529389e-02],\n",
       "        [ 3.44536565e-02, -4.26977053e-02, -8.88388231e-03,\n",
       "          4.58909757e-02,  1.88784041e-02,  3.31504233e-02,\n",
       "          2.77965106e-02, -4.84809764e-02, -1.18754879e-02,\n",
       "          3.57534736e-03],\n",
       "        [ 4.77240570e-02,  1.74798034e-02, -3.22567970e-02,\n",
       "          3.42260636e-02,  3.10452916e-02,  3.49273533e-03,\n",
       "         -4.50175069e-02, -5.45353815e-03, -2.21540928e-02,\n",
       "          8.13554600e-03],\n",
       "        [-6.10624626e-03,  2.32449435e-02,  2.62573473e-02,\n",
       "          4.01174091e-02, -1.01722404e-03, -1.88475139e-02,\n",
       "         -2.54619122e-03, -2.26771832e-03,  2.32363977e-02,\n",
       "          4.36396264e-02]],\n",
       "\n",
       "       [[ 2.83964165e-02, -2.14381944e-02, -2.47539766e-02,\n",
       "          4.80248369e-02,  9.54394415e-03, -1.56614184e-02,\n",
       "          3.73695381e-02, -4.83937524e-02,  4.72700112e-02,\n",
       "          3.89969088e-02],\n",
       "        [ 2.83964165e-02, -2.14381944e-02, -2.47539766e-02,\n",
       "          4.80248369e-02,  9.54394415e-03, -1.56614184e-02,\n",
       "          3.73695381e-02, -4.83937524e-02,  4.72700112e-02,\n",
       "          3.89969088e-02],\n",
       "        [ 2.83964165e-02, -2.14381944e-02, -2.47539766e-02,\n",
       "          4.80248369e-02,  9.54394415e-03, -1.56614184e-02,\n",
       "          3.73695381e-02, -4.83937524e-02,  4.72700112e-02,\n",
       "          3.89969088e-02],\n",
       "        [ 2.83964165e-02, -2.14381944e-02, -2.47539766e-02,\n",
       "          4.80248369e-02,  9.54394415e-03, -1.56614184e-02,\n",
       "          3.73695381e-02, -4.83937524e-02,  4.72700112e-02,\n",
       "          3.89969088e-02],\n",
       "        [ 6.22060150e-03, -3.19475681e-02, -3.12072039e-02,\n",
       "         -3.19063663e-02,  1.84067152e-02, -2.10837480e-02,\n",
       "         -1.36813149e-02,  2.85326950e-02,  3.35720517e-02,\n",
       "          4.04077433e-02],\n",
       "        [-2.39440333e-02, -2.72177812e-02,  4.99566831e-02,\n",
       "         -9.06939432e-03, -1.85783133e-02, -4.83600982e-02,\n",
       "         -4.94470969e-02,  4.01728190e-02, -1.60667077e-02,\n",
       "          3.99520285e-02],\n",
       "        [-3.44784148e-02,  1.86251141e-02, -1.59857050e-02,\n",
       "          2.31613033e-02, -1.76558495e-02, -2.94271000e-02,\n",
       "         -2.19196212e-02,  4.64760400e-02, -4.27140482e-02,\n",
       "         -1.71091184e-02],\n",
       "        [-1.10506639e-02,  3.32957022e-02,  6.42082840e-03,\n",
       "         -4.65991348e-03, -2.65652779e-02, -3.65604274e-02,\n",
       "         -4.49048765e-02,  1.71564519e-04, -3.82828936e-02,\n",
       "         -3.11576203e-03]]], dtype=float32)"
      ]
     },
     "execution_count": 13,
     "metadata": {},
     "output_type": "execute_result"
    }
   ],
   "source": [
    "model.predict(embedded_docs)"
   ]
  },
  {
   "cell_type": "code",
   "execution_count": 14,
   "metadata": {},
   "outputs": [
    {
     "data": {
      "text/plain": [
       "array([   0,    0,    0,    0, 6511, 6879, 9903, 7463], dtype=int32)"
      ]
     },
     "execution_count": 14,
     "metadata": {},
     "output_type": "execute_result"
    }
   ],
   "source": [
    "embedded_docs[0]"
   ]
  },
  {
   "cell_type": "code",
   "execution_count": 16,
   "metadata": {},
   "outputs": [
    {
     "ename": "ValueError",
     "evalue": "Exception encountered when calling Sequential.call().\n\n\u001b[1mCannot take the length of shape with unknown rank.\u001b[0m\n\nArguments received by Sequential.call():\n  • inputs=tf.Tensor(shape=<unknown>, dtype=int32)\n  • training=False\n  • mask=None",
     "output_type": "error",
     "traceback": [
      "\u001b[31m---------------------------------------------------------------------------\u001b[39m",
      "\u001b[31mValueError\u001b[39m                                Traceback (most recent call last)",
      "\u001b[36mCell\u001b[39m\u001b[36m \u001b[39m\u001b[32mIn[16]\u001b[39m\u001b[32m, line 1\u001b[39m\n\u001b[32m----> \u001b[39m\u001b[32m1\u001b[39m \u001b[43mmodel\u001b[49m\u001b[43m.\u001b[49m\u001b[43mpredict\u001b[49m\u001b[43m(\u001b[49m\u001b[43membedded_docs\u001b[49m\u001b[43m[\u001b[49m\u001b[32;43m0\u001b[39;49m\u001b[43m]\u001b[49m\u001b[43m)\u001b[49m\n",
      "\u001b[36mFile \u001b[39m\u001b[32mc:\\Users\\moham\\Documents\\Simple_RNN\\venv\\Lib\\site-packages\\keras\\src\\utils\\traceback_utils.py:122\u001b[39m, in \u001b[36mfilter_traceback.<locals>.error_handler\u001b[39m\u001b[34m(*args, **kwargs)\u001b[39m\n\u001b[32m    119\u001b[39m     filtered_tb = _process_traceback_frames(e.__traceback__)\n\u001b[32m    120\u001b[39m     \u001b[38;5;66;03m# To get the full stack trace, call:\u001b[39;00m\n\u001b[32m    121\u001b[39m     \u001b[38;5;66;03m# `keras.config.disable_traceback_filtering()`\u001b[39;00m\n\u001b[32m--> \u001b[39m\u001b[32m122\u001b[39m     \u001b[38;5;28;01mraise\u001b[39;00m e.with_traceback(filtered_tb) \u001b[38;5;28;01mfrom\u001b[39;00m\u001b[38;5;250m \u001b[39m\u001b[38;5;28;01mNone\u001b[39;00m\n\u001b[32m    123\u001b[39m \u001b[38;5;28;01mfinally\u001b[39;00m:\n\u001b[32m    124\u001b[39m     \u001b[38;5;28;01mdel\u001b[39;00m filtered_tb\n",
      "\u001b[36mFile \u001b[39m\u001b[32mc:\\Users\\moham\\Documents\\Simple_RNN\\venv\\Lib\\site-packages\\keras\\src\\utils\\traceback_utils.py:122\u001b[39m, in \u001b[36mfilter_traceback.<locals>.error_handler\u001b[39m\u001b[34m(*args, **kwargs)\u001b[39m\n\u001b[32m    119\u001b[39m     filtered_tb = _process_traceback_frames(e.__traceback__)\n\u001b[32m    120\u001b[39m     \u001b[38;5;66;03m# To get the full stack trace, call:\u001b[39;00m\n\u001b[32m    121\u001b[39m     \u001b[38;5;66;03m# `keras.config.disable_traceback_filtering()`\u001b[39;00m\n\u001b[32m--> \u001b[39m\u001b[32m122\u001b[39m     \u001b[38;5;28;01mraise\u001b[39;00m e.with_traceback(filtered_tb) \u001b[38;5;28;01mfrom\u001b[39;00m\u001b[38;5;250m \u001b[39m\u001b[38;5;28;01mNone\u001b[39;00m\n\u001b[32m    123\u001b[39m \u001b[38;5;28;01mfinally\u001b[39;00m:\n\u001b[32m    124\u001b[39m     \u001b[38;5;28;01mdel\u001b[39;00m filtered_tb\n",
      "\u001b[31mValueError\u001b[39m: Exception encountered when calling Sequential.call().\n\n\u001b[1mCannot take the length of shape with unknown rank.\u001b[0m\n\nArguments received by Sequential.call():\n  • inputs=tf.Tensor(shape=<unknown>, dtype=int32)\n  • training=False\n  • mask=None"
     ]
    }
   ],
   "source": [
    "model.predict(embedded_docs[0])"
   ]
  },
  {
   "cell_type": "code",
   "execution_count": null,
   "metadata": {},
   "outputs": [],
   "source": []
  }
 ],
 "metadata": {
  "kernelspec": {
   "display_name": "venv",
   "language": "python",
   "name": "python3"
  },
  "language_info": {
   "codemirror_mode": {
    "name": "ipython",
    "version": 3
   },
   "file_extension": ".py",
   "mimetype": "text/x-python",
   "name": "python",
   "nbconvert_exporter": "python",
   "pygments_lexer": "ipython3",
   "version": "3.12.7"
  }
 },
 "nbformat": 4,
 "nbformat_minor": 2
}
