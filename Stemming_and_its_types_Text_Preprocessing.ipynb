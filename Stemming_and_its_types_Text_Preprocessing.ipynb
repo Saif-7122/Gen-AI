{
  "nbformat": 4,
  "nbformat_minor": 0,
  "metadata": {
    "colab": {
      "provenance": []
    },
    "kernelspec": {
      "name": "python3",
      "display_name": "Python 3"
    },
    "language_info": {
      "name": "python"
    }
  },
  "cells": [
    {
      "cell_type": "markdown",
      "source": [
        "#Stemming\n",
        "### Stemming is the process of reducing a word to its word stem that affixes to suffixes and prefixes or to the roots of words known as lemma.\n",
        "Stemming is important in NL understanding and NLP.\n",
        "\n",
        "## What is lemma ?\n",
        "A lemma is the dictionary or base form of a word, used in stemming or lemmatization to represent all its inflected forms.\n"
      ],
      "metadata": {
        "id": "huZnYILIFLBK"
      }
    },
    {
      "cell_type": "code",
      "source": [
        "##Classification problem\n",
        "## comment of a product is a postive or a negative review\n",
        "##Reviews---> eating , eat, eaten [ going,gone,goes]---->go\n",
        "words=['eating','eat','eaten','going','gone','goes','write','writing','written']"
      ],
      "metadata": {
        "id": "8D_gtdHbFOUJ"
      },
      "execution_count": 2,
      "outputs": []
    },
    {
      "cell_type": "code",
      "source": [
        "###PorterStemmer\n",
        "from nltk.stem import PorterStemmer"
      ],
      "metadata": {
        "id": "neF1KM8tHfCp"
      },
      "execution_count": 4,
      "outputs": []
    },
    {
      "cell_type": "code",
      "source": [
        "stemming = PorterStemmer()"
      ],
      "metadata": {
        "id": "4RNWlieuHuGx"
      },
      "execution_count": 5,
      "outputs": []
    },
    {
      "cell_type": "code",
      "source": [
        "for word in words:\n",
        "  print(word+'---->'+stemming.stem(word))"
      ],
      "metadata": {
        "colab": {
          "base_uri": "https://localhost:8080/"
        },
        "id": "yVh963LLHyMu",
        "outputId": "78254595-d690-4101-c15d-2d7a4f7f4644"
      },
      "execution_count": 6,
      "outputs": [
        {
          "output_type": "stream",
          "name": "stdout",
          "text": [
            "eating---->eat\n",
            "eat---->eat\n",
            "eaten---->eaten\n",
            "going---->go\n",
            "gone---->gone\n",
            "goes---->goe\n",
            "write---->write\n",
            "writing---->write\n",
            "written---->written\n"
          ]
        }
      ]
    },
    {
      "cell_type": "code",
      "source": [
        "stemming.stem(\"congratulations\")\n",
        "## doesn't give congratulate - major disadvantage"
      ],
      "metadata": {
        "colab": {
          "base_uri": "https://localhost:8080/",
          "height": 36
        },
        "id": "WxxFH1fdI4Jh",
        "outputId": "51f81973-c5e6-4edd-82d2-e4049878637a"
      },
      "execution_count": 8,
      "outputs": [
        {
          "output_type": "execute_result",
          "data": {
            "text/plain": [
              "'congratul'"
            ],
            "application/vnd.google.colaboratory.intrinsic+json": {
              "type": "string"
            }
          },
          "metadata": {},
          "execution_count": 8
        }
      ]
    },
    {
      "cell_type": "code",
      "source": [
        "stemming.stem(\"breathing\")"
      ],
      "metadata": {
        "colab": {
          "base_uri": "https://localhost:8080/",
          "height": 36
        },
        "id": "X_-6ZnKnI8Go",
        "outputId": "f8c07aa2-0425-4c04-c7ef-cc68984a824c"
      },
      "execution_count": 9,
      "outputs": [
        {
          "output_type": "execute_result",
          "data": {
            "text/plain": [
              "'breath'"
            ],
            "application/vnd.google.colaboratory.intrinsic+json": {
              "type": "string"
            }
          },
          "metadata": {},
          "execution_count": 9
        }
      ]
    },
    {
      "cell_type": "code",
      "source": [],
      "metadata": {
        "id": "HkMUwUeDJElu"
      },
      "execution_count": null,
      "outputs": []
    },
    {
      "cell_type": "markdown",
      "source": [
        "#RegexpStemmer class\n",
        "###NLTK has RegexpStemmer class with the help of which we can easily implement Regular Expression Stemmer algorithms. It basically takes a single regular expression and removes the prefix or suffix that matches the expression. Lets go through an example:\n"
      ],
      "metadata": {
        "id": "JR8XZov1FNqQ"
      }
    },
    {
      "cell_type": "code",
      "source": [
        "from nltk.stem import RegexpStemmer"
      ],
      "metadata": {
        "id": "JN_sMwWMJSl8"
      },
      "execution_count": 10,
      "outputs": []
    },
    {
      "cell_type": "code",
      "source": [
        "reg_stemmer = RegexpStemmer( 'ing$|s$|e$|able$', min=4)"
      ],
      "metadata": {
        "id": "TdBgNMUzJXiu"
      },
      "execution_count": 11,
      "outputs": []
    },
    {
      "cell_type": "code",
      "source": [
        "reg_stemmer.stem('flemming')"
      ],
      "metadata": {
        "colab": {
          "base_uri": "https://localhost:8080/",
          "height": 36
        },
        "id": "HOQF7N3LKERt",
        "outputId": "2dc357d4-a4b8-429a-b861-78a95ce55329"
      },
      "execution_count": 12,
      "outputs": [
        {
          "output_type": "execute_result",
          "data": {
            "text/plain": [
              "'flemm'"
            ],
            "application/vnd.google.colaboratory.intrinsic+json": {
              "type": "string"
            }
          },
          "metadata": {},
          "execution_count": 12
        }
      ]
    },
    {
      "cell_type": "code",
      "source": [
        "reg_stemmer.stem('eating')"
      ],
      "metadata": {
        "colab": {
          "base_uri": "https://localhost:8080/",
          "height": 36
        },
        "id": "Wya9fPogKIj6",
        "outputId": "cd11acbf-7174-40e9-da8a-8d9919dbf608"
      },
      "execution_count": 13,
      "outputs": [
        {
          "output_type": "execute_result",
          "data": {
            "text/plain": [
              "'eat'"
            ],
            "application/vnd.google.colaboratory.intrinsic+json": {
              "type": "string"
            }
          },
          "metadata": {},
          "execution_count": 13
        }
      ]
    },
    {
      "cell_type": "code",
      "source": [
        "reg_stemmer = RegexpStemmer( 'ing|s$|e$|able$', min=4)"
      ],
      "metadata": {
        "id": "PskpVlGPKNSb"
      },
      "execution_count": 14,
      "outputs": []
    },
    {
      "cell_type": "code",
      "source": [
        "reg_stemmer.stem('ingeating')"
      ],
      "metadata": {
        "colab": {
          "base_uri": "https://localhost:8080/",
          "height": 36
        },
        "id": "GyWIjFKBKSxu",
        "outputId": "d3a4598c-dcd7-4176-aa7b-6e5b965376d1"
      },
      "execution_count": 15,
      "outputs": [
        {
          "output_type": "execute_result",
          "data": {
            "text/plain": [
              "'eat'"
            ],
            "application/vnd.google.colaboratory.intrinsic+json": {
              "type": "string"
            }
          },
          "metadata": {},
          "execution_count": 15
        }
      ]
    },
    {
      "cell_type": "markdown",
      "source": [
        "# SNOWBALL Stemmer"
      ],
      "metadata": {
        "id": "kv0GLLwuKi9h"
      }
    },
    {
      "cell_type": "code",
      "source": [
        "from nltk.stem import SnowballStemmer"
      ],
      "metadata": {
        "id": "FTcwQc7ZLE7-"
      },
      "execution_count": 16,
      "outputs": []
    },
    {
      "cell_type": "code",
      "source": [
        "snowballstemmer=SnowballStemmer('english')"
      ],
      "metadata": {
        "id": "hPhUV8pQLKza"
      },
      "execution_count": 20,
      "outputs": []
    },
    {
      "cell_type": "code",
      "source": [
        "for word in words:\n",
        "    print(word+'---->'+snowballstemmer.stem(word))"
      ],
      "metadata": {
        "colab": {
          "base_uri": "https://localhost:8080/"
        },
        "id": "E7XVnjNSLQj0",
        "outputId": "572de4ad-9155-455e-901c-0a1522092366"
      },
      "execution_count": 21,
      "outputs": [
        {
          "output_type": "stream",
          "name": "stdout",
          "text": [
            "eating---->eat\n",
            "eat---->eat\n",
            "eaten---->eaten\n",
            "going---->go\n",
            "gone---->gone\n",
            "goes---->goe\n",
            "write---->write\n",
            "writing---->write\n",
            "written---->written\n"
          ]
        }
      ]
    },
    {
      "cell_type": "code",
      "source": [
        "stemming.stem('fairly'),stemming.stem('sportingly')"
      ],
      "metadata": {
        "colab": {
          "base_uri": "https://localhost:8080/"
        },
        "id": "DxYylNqGLc21",
        "outputId": "1191d08b-7e01-4e71-bbb1-8b2bedd83887"
      },
      "execution_count": 22,
      "outputs": [
        {
          "output_type": "execute_result",
          "data": {
            "text/plain": [
              "('fairli', 'sportingli')"
            ]
          },
          "metadata": {},
          "execution_count": 22
        }
      ]
    },
    {
      "cell_type": "code",
      "source": [
        "snowballstemmer.stem('fairly'),snowballstemmer.stem('sportingly')"
      ],
      "metadata": {
        "colab": {
          "base_uri": "https://localhost:8080/"
        },
        "id": "WiUyOrN_Lsqx",
        "outputId": "0fa812c8-111d-467a-cd45-372cf0a9d4ce"
      },
      "execution_count": 23,
      "outputs": [
        {
          "output_type": "execute_result",
          "data": {
            "text/plain": [
              "('fair', 'sport')"
            ]
          },
          "metadata": {},
          "execution_count": 23
        }
      ]
    },
    {
      "cell_type": "code",
      "source": [
        "# u can observe the clear differenve between RegExp and SNowball stemmer here"
      ],
      "metadata": {
        "id": "8EgApvLdLv4d"
      },
      "execution_count": 24,
      "outputs": []
    },
    {
      "cell_type": "markdown",
      "source": [
        "One big disadvantage is that if we use words like \"goes\" it gives -> goe\n",
        "how much we try some words form of lemma changes. we hav to go through lemmatization : gives good grammatical form of the word."
      ],
      "metadata": {
        "id": "XASlA3bJMapt"
      }
    },
    {
      "cell_type": "code",
      "source": [],
      "metadata": {
        "id": "JlFswVyOMrxJ"
      },
      "execution_count": null,
      "outputs": []
    }
  ]
}